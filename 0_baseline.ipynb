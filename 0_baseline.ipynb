{
 "cells": [
  {
   "cell_type": "markdown",
   "id": "f79f00e6-88bc-4d4d-930d-9f346eba5955",
   "metadata": {},
   "source": [
    "# Baseline accuracy"
   ]
  },
  {
   "cell_type": "code",
   "execution_count": 1,
   "id": "6e5e34ee-34b1-472d-8da5-09f50ca5a23e",
   "metadata": {},
   "outputs": [],
   "source": [
    "import gzip\n",
    "import os.path as op\n",
    "\n",
    "import numpy as np\n",
    "import pandas as pd\n",
    "\n",
    "from local_dataset_utilities import download_dataset, load_dataset_into_to_dataframe, partition_dataset"
   ]
  },
  {
   "cell_type": "code",
   "execution_count": 2,
   "id": "aceb0005-1dcd-4735-8cff-fc3b10baae4f",
   "metadata": {},
   "outputs": [
    {
     "name": "stderr",
     "output_type": "stream",
     "text": [
      "100%|███████████████████████████████████| 50000/50000 [00:19<00:00, 2542.67it/s]\n"
     ]
    },
    {
     "name": "stdout",
     "output_type": "stream",
     "text": [
      "Class distribution:\n"
     ]
    }
   ],
   "source": [
    "if not (op.isfile(\"train.csv\") and op.isfile(\"val.csv\") and op.isfile(\"test.csv\")):\n",
    "    download_dataset()\n",
    "\n",
    "    df = load_dataset_into_to_dataframe()\n",
    "    partition_dataset(df)"
   ]
  },
  {
   "cell_type": "code",
   "execution_count": 3,
   "id": "47535727-bbc5-44ba-ae42-bcd34781adcb",
   "metadata": {},
   "outputs": [],
   "source": [
    "df_train = pd.read_csv(\"train.csv\")\n",
    "df_val = pd.read_csv(\"val.csv\")\n",
    "df_test = pd.read_csv(\"test.csv\")"
   ]
  },
  {
   "cell_type": "code",
   "execution_count": 4,
   "id": "0bde64f1-a5d0-4269-a9dc-eaa6d2159872",
   "metadata": {},
   "outputs": [
    {
     "data": {
      "text/plain": [
       "(35000, 3)"
      ]
     },
     "execution_count": 4,
     "metadata": {},
     "output_type": "execute_result"
    }
   ],
   "source": [
    "df_train.shape"
   ]
  },
  {
   "cell_type": "code",
   "execution_count": 5,
   "id": "8697ead4-4986-45b8-abe0-1fab35afc4ca",
   "metadata": {},
   "outputs": [
    {
     "data": {
      "text/plain": [
       "(10000, 3)"
      ]
     },
     "execution_count": 5,
     "metadata": {},
     "output_type": "execute_result"
    }
   ],
   "source": [
    "df_test.shape"
   ]
  },
  {
   "cell_type": "code",
   "execution_count": 6,
   "id": "db443420-3875-4b24-adaa-9549aa98a536",
   "metadata": {},
   "outputs": [
    {
     "data": {
      "text/plain": [
       "array([5006, 4994])"
      ]
     },
     "execution_count": 6,
     "metadata": {},
     "output_type": "execute_result"
    }
   ],
   "source": [
    "bcnt = np.bincount(df_test[\"label\"].values)\n",
    "bcnt"
   ]
  },
  {
   "cell_type": "code",
   "execution_count": 7,
   "id": "3703d434-c14d-4562-bbe4-bd3841791235",
   "metadata": {},
   "outputs": [
    {
     "name": "stdout",
     "output_type": "stream",
     "text": [
      "Baseline accuracy: 0.5006\n"
     ]
    }
   ],
   "source": [
    "print(\"Baseline accuracy:\", np.max(bcnt)/ bcnt.sum())"
   ]
  }
 ],
 "metadata": {
  "kernelspec": {
   "display_name": "Python 3 (ipykernel)",
   "language": "python",
   "name": "python3"
  },
  "language_info": {
   "codemirror_mode": {
    "name": "ipython",
    "version": 3
   },
   "file_extension": ".py",
   "mimetype": "text/x-python",
   "name": "python",
   "nbconvert_exporter": "python",
   "pygments_lexer": "ipython3",
   "version": "3.10.6"
  }
 },
 "nbformat": 4,
 "nbformat_minor": 5
}
