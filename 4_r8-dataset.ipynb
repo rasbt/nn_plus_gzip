{
 "cells": [
  {
   "cell_type": "markdown",
   "id": "9a8d1036-9af3-425b-af79-542cb5698183",
   "metadata": {},
   "source": [
    "## Experiments on R8 dataset"
   ]
  },
  {
   "cell_type": "markdown",
   "id": "81168bb4-e182-4cf0-9eff-72f0aa495401",
   "metadata": {},
   "source": [
    "This notebooks runs the proposed method on the R8 dataset that was reported in the original paper:"
   ]
  },
  {
   "cell_type": "markdown",
   "id": "cce35398-f627-4a50-a0eb-af2ad98ff75e",
   "metadata": {},
   "source": [
    "![](figures/r8.png)"
   ]
  },
  {
   "cell_type": "markdown",
   "id": "73cc2896-1dc1-4bc2-8d06-55bb0f6813bd",
   "metadata": {},
   "source": [
    "Note that the scores in the original paper are inflated or overly optimistic because of a bug in their code repository, which was described on [https://kenschutte.com/gzip-knn-paper/](https://kenschutte.com/gzip-knn-paper/)."
   ]
  },
  {
   "cell_type": "code",
   "execution_count": 1,
   "id": "6122b98c-af6f-424c-a498-cee4cd008477",
   "metadata": {},
   "outputs": [],
   "source": [
    "import gzip\n",
    "import os.path as op\n",
    "\n",
    "import numpy as np\n",
    "import pandas as pd"
   ]
  },
  {
   "cell_type": "markdown",
   "id": "502672d8-2a4c-4504-ac47-684962fa7bc2",
   "metadata": {},
   "source": [
    "### Load dataset"
   ]
  },
  {
   "cell_type": "markdown",
   "id": "018be464-1ee4-4048-a8bc-0b1ecf8c9a76",
   "metadata": {},
   "source": [
    "Before running the code below, make sure to download the dataset from here: https://www.kaggle.com/datasets/weipengfei/ohr8r52"
   ]
  },
  {
   "cell_type": "code",
   "execution_count": 2,
   "id": "f11f439a-1e31-4881-a7c2-a9633693f202",
   "metadata": {},
   "outputs": [],
   "source": [
    "df_train = pd.read_csv(\"r8-train-stemmed.csv\")\n",
    "df_test = pd.read_csv(\"r8-test-stemmed.csv\")"
   ]
  },
  {
   "cell_type": "code",
   "execution_count": 3,
   "id": "fe2f6e18-b3d5-4333-93aa-782a287d0350",
   "metadata": {},
   "outputs": [
    {
     "data": {
      "text/plain": [
       "{'money-fx': 0,\n",
       " 'crude': 1,\n",
       " 'interest': 2,\n",
       " 'trade': 3,\n",
       " 'earn': 4,\n",
       " 'grain': 5,\n",
       " 'ship': 6,\n",
       " 'acq': 7}"
      ]
     },
     "execution_count": 3,
     "metadata": {},
     "output_type": "execute_result"
    }
   ],
   "source": [
    "uniq = list(set(df_train[\"intent\"].values))\n",
    "labels = {j:i for i,j in zip(range(len(uniq)), uniq)}\n",
    "labels"
   ]
  },
  {
   "cell_type": "code",
   "execution_count": 4,
   "id": "5b9bf7a6-cc26-4d9f-a2c8-ea1d736b7997",
   "metadata": {},
   "outputs": [],
   "source": [
    "df_train[\"label\"] = df_train[\"intent\"].apply(lambda x: labels[x])\n",
    "df_test[\"label\"] = df_test[\"intent\"].apply(lambda x: labels[x])"
   ]
  },
  {
   "cell_type": "markdown",
   "id": "5978af4b-20e2-4031-8c7f-3c2bbd6eb906",
   "metadata": {},
   "source": [
    "## Original"
   ]
  },
  {
   "cell_type": "markdown",
   "id": "2f1c8f54-82bf-45cf-a273-af4106323998",
   "metadata": {},
   "source": [
    "Reimplementation of the pseudocode in the *\"Low-Resource\" Text Classification: A Parameter-Free Classification Method with Compressors* paper ([https://aclanthology.org/2023.findings-acl.426/](https://aclanthology.org/2023.findings-acl.426/)) \n",
    "\n",
    "\n",
    "<img src=\"figures/pseudocode.png\" width=\"500\">\n",
    "\n",
    "\n",
    "- Same code as [1_1_nn_plus_gzip_original.ipynb](1_1_nn_plus_gzip_original.ipynb)"
   ]
  },
  {
   "cell_type": "code",
   "execution_count": 6,
   "id": "ce436c63-2eea-46a2-95ca-cfaab0acf348",
   "metadata": {},
   "outputs": [
    {
     "name": "stderr",
     "output_type": "stream",
     "text": [
      "100%|███████████████████████████████████████| 2189/2189 [09:44<00:00,  3.74it/s]"
     ]
    },
    {
     "name": "stdout",
     "output_type": "stream",
     "text": [
      "Accuracy: 0.8889904065783463\n"
     ]
    },
    {
     "name": "stderr",
     "output_type": "stream",
     "text": [
      "\n"
     ]
    }
   ],
   "source": [
    "k = 2\n",
    "\n",
    "predicted_classes = []\n",
    "\n",
    "for row_test in tqdm(df_test.iterrows(), total=df_test.shape[0]):\n",
    "    test_text = row_test[1][\"text\"]\n",
    "    test_label = row_test[1][\"label\"]\n",
    "    c_test_text = len(gzip.compress(test_text.encode()))\n",
    "    distance_from_test_instance = []\n",
    "    \n",
    "    for row_train in df_train.iterrows():\n",
    "        train_text = row_train[1][\"text\"]\n",
    "        train_label = row_train[1][\"label\"]\n",
    "        c_train_text = len(gzip.compress(train_text.encode()))\n",
    "        \n",
    "        train_plus_test = \" \".join([test_text, train_text])\n",
    "        c_train_plus_test = len(gzip.compress(train_plus_test.encode()))\n",
    "        \n",
    "        ncd = ( (c_train_plus_test - min(c_train_text, c_test_text))\n",
    "                / max(c_test_text, c_train_text) )\n",
    "        distance_from_test_instance.append(ncd)\n",
    "        \n",
    "    sorted_idx = np.argsort(np.array(distance_from_test_instance))\n",
    "    \n",
    "    #top_k_class = list(df_train.iloc[sorted_idx[:k]][\"label\"].values)\n",
    "    #predicted_class = max(set(top_k_class), key=top_k_class.count)\n",
    "    top_k_class = df_train.iloc[sorted_idx[:k]][\"label\"].values\n",
    "    predicted_class = np.argmax(np.bincount(top_k_class))\n",
    "    \n",
    "    predicted_classes.append(predicted_class)\n",
    "     \n",
    "print(\"Accuracy:\", np.mean(np.array(predicted_classes) == df_test[\"label\"].values))"
   ]
  },
  {
   "cell_type": "markdown",
   "id": "98eecfd5-0eaf-4274-b48c-7f9c27b0d0f4",
   "metadata": {},
   "source": [
    "## With Tie-Breaking Fix"
   ]
  },
  {
   "cell_type": "markdown",
   "id": "fc2bd458-a7f8-46d0-9c08-cecbd3daae8c",
   "metadata": {},
   "source": [
    "With improved tie breaking using `Counter` as described in [0_some-concepts.ipynb](0_some-concepts.ipynb). \n",
    "\n",
    "- Same code as [1_2_nn_plus_gzip_fix-tie-breaking.ipynb](1_2_nn_plus_gzip_fix-tie-breaking.ipynb)"
   ]
  },
  {
   "cell_type": "code",
   "execution_count": 5,
   "id": "fa2bee8b-0ac4-42f4-95d2-5abd1ce6cebe",
   "metadata": {},
   "outputs": [
    {
     "name": "stderr",
     "output_type": "stream",
     "text": [
      "100%|███████████████████████████████████████| 2189/2189 [09:49<00:00,  3.71it/s]"
     ]
    },
    {
     "name": "stdout",
     "output_type": "stream",
     "text": [
      "Accuracy: 0.912745545911375\n"
     ]
    },
    {
     "name": "stderr",
     "output_type": "stream",
     "text": [
      "\n"
     ]
    }
   ],
   "source": [
    "from tqdm import tqdm\n",
    "from collections import Counter\n",
    "\n",
    "k = 2\n",
    "\n",
    "predicted_classes = []\n",
    "\n",
    "for row_test in tqdm(df_test.iterrows(), total=df_test.shape[0]):\n",
    "    test_text = row_test[1][\"text\"]\n",
    "    test_label = row_test[1][\"label\"]\n",
    "    c_test_text = len(gzip.compress(test_text.encode()))\n",
    "    distance_from_test_instance = []\n",
    "    \n",
    "    for row_train in df_train.iterrows():\n",
    "        train_text = row_train[1][\"text\"]\n",
    "        train_label = row_train[1][\"label\"]\n",
    "        c_train_text = len(gzip.compress(train_text.encode()))\n",
    "        \n",
    "        train_plus_test = \" \".join([test_text, train_text])\n",
    "        c_train_plus_test = len(gzip.compress(train_plus_test.encode()))\n",
    "        \n",
    "        ncd = ( (c_train_plus_test - min(c_train_text, c_test_text))\n",
    "                / max(c_test_text, c_train_text) )\n",
    "        distance_from_test_instance.append(ncd)\n",
    "        \n",
    "    sorted_idx = np.argsort(np.array(distance_from_test_instance))\n",
    "    top_k_class = np.array(df_train[\"label\"])[sorted_idx[:k]]\n",
    "    predicted_class = Counter(top_k_class).most_common()[0][0]\n",
    "    \n",
    "    predicted_classes.append(predicted_class)\n",
    "        \n",
    "print(\"Accuracy:\", np.mean(np.array(predicted_classes) == df_test[\"label\"].values))"
   ]
  }
 ],
 "metadata": {
  "kernelspec": {
   "display_name": "Python 3 (ipykernel)",
   "language": "python",
   "name": "python3"
  },
  "language_info": {
   "codemirror_mode": {
    "name": "ipython",
    "version": 3
   },
   "file_extension": ".py",
   "mimetype": "text/x-python",
   "name": "python",
   "nbconvert_exporter": "python",
   "pygments_lexer": "ipython3",
   "version": "3.10.6"
  }
 },
 "nbformat": 4,
 "nbformat_minor": 5
}
